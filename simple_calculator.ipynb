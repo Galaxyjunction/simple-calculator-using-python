{
  "nbformat": 4,
  "nbformat_minor": 0,
  "metadata": {
    "colab": {
      "provenance": [],
      "authorship_tag": "ABX9TyMhCCVRFoiTFzbKH36reo7Q",
      "include_colab_link": true
    },
    "kernelspec": {
      "name": "python3",
      "display_name": "Python 3"
    },
    "language_info": {
      "name": "python"
    }
  },
  "cells": [
    {
      "cell_type": "markdown",
      "metadata": {
        "id": "view-in-github",
        "colab_type": "text"
      },
      "source": [
        "<a href=\"https://colab.research.google.com/github/Galaxyjunction/simple-calculator-using-python/blob/main/simple_calculator.ipynb\" target=\"_parent\"><img src=\"https://colab.research.google.com/assets/colab-badge.svg\" alt=\"Open In Colab\"/></a>"
      ]
    },
    {
      "cell_type": "code",
      "execution_count": null,
      "metadata": {
        "id": "GWqfpWfV3AHH"
      },
      "outputs": [],
      "source": [
        "#2nd Class-Assignment"
      ]
    },
    {
      "cell_type": "code",
      "source": [
        "num1 = float(input(\"Enter first number!\"))\n",
        "\n",
        "operator = input(\"Enter operator( + , - , * , / , ** , % ):\")\n",
        "\n",
        "num2 = float(input(\"Enter second number:\"))\n",
        "\n",
        "if operator == '+':\n",
        "  print(\"Answer:\", num1 + num2)\n",
        "elif operator == '-':\n",
        "  print(\"Answer:\", num1 - num2)\n",
        "elif operator == '*':\n",
        "  print(\"Answer:\", num1 * num2)\n",
        "elif operator == '/':\n",
        "  print(\"Answer:\", num1  / num2 if num2 !=0 else \"Error! Division by zero\")\n",
        "elif operator == '**':\n",
        "  print(\"Answer:\", num1 ** num2 )\n",
        "elif operator == '%':\n",
        "  print(\"Answer:\" , num1 % num2)\n",
        "else:\n",
        "  print(\"Invalid operator\")\n",
        "\n"
      ],
      "metadata": {
        "colab": {
          "base_uri": "https://localhost:8080/"
        },
        "id": "9lJ0Dq7s3pSL",
        "outputId": "b09818a2-486e-4405-fe1e-2573b4757dc1"
      },
      "execution_count": null,
      "outputs": [
        {
          "output_type": "stream",
          "name": "stdout",
          "text": [
            "Enter first number!5\n",
            "Enter operator( + , - , * , / , ** , % ):**\n",
            "Enter second number:2\n",
            "Answer: 25.0\n"
          ]
        }
      ]
    },
    {
      "cell_type": "markdown",
      "source": [],
      "metadata": {
        "id": "Aqb2mttl3cFV"
      }
    }
  ]
}